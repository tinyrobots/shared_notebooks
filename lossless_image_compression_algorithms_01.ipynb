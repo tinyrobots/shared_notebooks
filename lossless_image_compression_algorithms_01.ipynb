{
 "cells": [
  {
   "cell_type": "markdown",
   "metadata": {},
   "source": [
    "# Tutorial 1: Introduction to lossless image compression algorithms\n",
    "0. Recap on working with image data\n",
    "1. Run Length Encoding"
   ]
  },
  {
   "cell_type": "code",
   "execution_count": 123,
   "metadata": {},
   "outputs": [],
   "source": [
    "import numpy as np\n",
    "import cv2\n",
    "import matplotlib.pyplot as plt\n",
    "import sys\n",
    "import os\n",
    "import io\n",
    "from PIL import Image"
   ]
  },
  {
   "cell_type": "code",
   "execution_count": 124,
   "metadata": {},
   "outputs": [],
   "source": [
    "%matplotlib inline"
   ]
  },
  {
   "cell_type": "code",
   "execution_count": 125,
   "metadata": {},
   "outputs": [],
   "source": [
    "'''\n",
    "Image utilities.\n",
    "'''\n",
    "def show(img, figsize=(6, 6)):\n",
    "    '''\n",
    "    Display image.\n",
    "    '''\n",
    "    figure=plt.figure(figsize=figsize)\n",
    "    \n",
    "    plt.imshow(img, cmap='gray', vmin=0, vmax=255)\n",
    "    ax = plt.gca()\n",
    "    ax.axes.xaxis.set_visible(False)\n",
    "    ax.axes.yaxis.set_visible(False)\n",
    "    plt.show()\n",
    "    \n",
    "def showgrid(img, binflag=0, figsize=(6, 6)):\n",
    "    '''\n",
    "    Display pixel values of image.\n",
    "    '''\n",
    "    fig, ax = plt.subplots(figsize=figsize)\n",
    "\n",
    "    min_val, max_val = 0, 6\n",
    "    ax.matshow(img, cmap='gray', vmin=0, vmax=1)\n",
    "\n",
    "    for i in range(6):\n",
    "        for j in range(6):\n",
    "            c = img[j,i] # get pixel value\n",
    "            if binflag: # convery integer to bit string\n",
    "                bits = np.unpackbits(np.array([c], np.uint8))\n",
    "                bitstring = ''.join(str(i) for i in bits)\n",
    "                ax.text(i, j, bitstring, va='center', ha='center', fontsize=10)\n",
    "            else:\n",
    "                ax.text(i, j, str(c), va='center', ha='center', fontsize=20)\n",
    "    ax.axes.xaxis.set_visible(False)\n",
    "    ax.axes.yaxis.set_visible(False)\n",
    "    plt.show()\n",
    "    \n",
    "def printbytestring(img):\n",
    "    unpacked = np.unpackbits(img.flatten())\n",
    "    return ''.join('{} '.format(byt) for byt in [''.join(str(el) for el in list(unpacked[i:i+8])) for i in range(0,len(unpacked),8)])"
   ]
  },
  {
   "cell_type": "code",
   "execution_count": 126,
   "metadata": {},
   "outputs": [],
   "source": [
    "# Adapted from:\n",
    "# - https://q-viper.github.io/2021/05/24/coding-run-length-encoding-in-python/\n",
    "\n",
    "def RLE_encoding(img, bits=8):\n",
    "    \"\"\"\n",
    "    img: Grayscale img.\n",
    "    bits: what will be the maximum run length? 2^bits       \n",
    "    \"\"\"\n",
    "    encoded = []\n",
    "    shape=img.shape\n",
    "    count = 0\n",
    "    prev = None\n",
    "    fimg = img.flatten()\n",
    "    for pixel in fimg:\n",
    "        if prev==None:\n",
    "            prev = pixel\n",
    "            count+=1\n",
    "        else:\n",
    "            if prev!=pixel:\n",
    "                encoded.append((count, prev))\n",
    "                prev=pixel\n",
    "                count=1\n",
    "            else:\n",
    "                if count<(2**bits)-1:\n",
    "                    count+=1\n",
    "                else:\n",
    "                    encoded.append((count, prev))\n",
    "                    prev=pixel\n",
    "                    count=1\n",
    "    encoded.append((count, prev))\n",
    "    \n",
    "    return np.array(encoded, np.uint8)"
   ]
  },
  {
   "cell_type": "markdown",
   "metadata": {},
   "source": [
    "## 0. Image data recap"
   ]
  },
  {
   "cell_type": "code",
   "execution_count": 135,
   "metadata": {},
   "outputs": [],
   "source": [
    "# custom image as array\n",
    "dummy = np.array([\n",
    "    [1,1,1,1,1,1],\n",
    "    [50,50,50,50,50,50],\n",
    "    [100,100,100,100,100,100],\n",
    "    [150,150,150,150,150,150],\n",
    "    [200,200,200,200,200,200],\n",
    "    [255,255,255,255,255,255]\n",
    "]).astype(np.uint8)\n",
    "# dummy = dummy.transpose()"
   ]
  },
  {
   "cell_type": "code",
   "execution_count": 136,
   "metadata": {},
   "outputs": [
    {
     "data": {
      "image/png": "[encoded data removed]",
      "text/plain": [
       "<Figure size 432x432 with 1 Axes>"
      ]
     },
     "metadata": {
      "needs_background": "light"
     },
     "output_type": "display_data"
    }
   ],
   "source": [
    "# dummy = np.random.randint(0, 255, (6, 6)).astype(np.uint8)\n",
    "# dummy = 255*np.ones([6, 6]).astype(np.uint8)\n",
    "show(dummy)"
   ]
  },
  {
   "cell_type": "code",
   "execution_count": 137,
   "metadata": {},
   "outputs": [
    {
     "data": {
      "image/png": "[encoded data removed]",
      "text/plain": [
       "<Figure size 432x432 with 1 Axes>"
      ]
     },
     "metadata": {
      "needs_background": "light"
     },
     "output_type": "display_data"
    }
   ],
   "source": [
    "showgrid(dummy, binflag=False)"
   ]
  },
  {
   "cell_type": "code",
   "execution_count": 138,
   "metadata": {},
   "outputs": [
    {
     "data": {
      "text/plain": [
       "'00000001 00000001 00000001 00000001 00000001 00000001 00110010 00110010 00110010 00110010 00110010 00110010 01100100 01100100 01100100 01100100 01100100 01100100 10010110 10010110 10010110 10010110 10010110 10010110 11001000 11001000 11001000 11001000 11001000 11001000 11111111 11111111 11111111 11111111 11111111 11111111 '"
      ]
     },
     "execution_count": 138,
     "metadata": {},
     "output_type": "execute_result"
    }
   ],
   "source": [
    "printbytestring(dummy)"
   ]
  },
  {
   "cell_type": "markdown",
   "metadata": {},
   "source": [
    "# 1. Run-Length Encoding"
   ]
  },
  {
   "cell_type": "code",
   "execution_count": 139,
   "metadata": {},
   "outputs": [
    {
     "data": {
      "text/plain": [
       "array([[  6,   1],\n",
       "       [  6,  50],\n",
       "       [  6, 100],\n",
       "       [  6, 150],\n",
       "       [  6, 200],\n",
       "       [  6, 255]], dtype=uint8)"
      ]
     },
     "execution_count": 139,
     "metadata": {},
     "output_type": "execute_result"
    }
   ],
   "source": [
    "encoded = RLE_encoding(dummy, bits=8)\n",
    "encoded"
   ]
  },
  {
   "cell_type": "code",
   "execution_count": 140,
   "metadata": {},
   "outputs": [
    {
     "data": {
      "text/plain": [
       "'00000110 00000001 00000110 00110010 00000110 01100100 00000110 10010110 00000110 11001000 00000110 11111111 '"
      ]
     },
     "execution_count": 140,
     "metadata": {},
     "output_type": "execute_result"
    }
   ],
   "source": [
    "printbytestring(encoded)"
   ]
  },
  {
   "cell_type": "code",
   "execution_count": 141,
   "metadata": {},
   "outputs": [
    {
     "data": {
      "text/plain": [
       "12"
      ]
     },
     "execution_count": 141,
     "metadata": {},
     "output_type": "execute_result"
    }
   ],
   "source": [
    "# number of bytes in the RLE encoded version\n",
    "encoded.nbytes"
   ]
  },
  {
   "cell_type": "code",
   "execution_count": 142,
   "metadata": {},
   "outputs": [
    {
     "data": {
      "text/plain": [
       "96"
      ]
     },
     "execution_count": 142,
     "metadata": {},
     "output_type": "execute_result"
    }
   ],
   "source": [
    "# number of bits in the RLE encoded version\n",
    "encoded.nbytes*8"
   ]
  }
 ],
 "metadata": {
  "kernelspec": {
   "display_name": "Python 3",
   "language": "python",
   "name": "python3"
  },
  "language_info": {
   "codemirror_mode": {
    "name": "ipython",
    "version": 3
   },
   "file_extension": ".py",
   "mimetype": "text/x-python",
   "name": "python",
   "nbconvert_exporter": "python",
   "pygments_lexer": "ipython3",
   "version": "3.6.9"
  }
 },
 "nbformat": 4,
 "nbformat_minor": 2
}
